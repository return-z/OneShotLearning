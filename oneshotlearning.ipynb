{
  "cells": [
    {
      "cell_type": "markdown",
      "metadata": {
        "id": "view-in-github",
        "colab_type": "text"
      },
      "source": [
        "<a href=\"https://colab.research.google.com/github/return-z/OneShotLearning/blob/main/oneshotlearning.ipynb\" target=\"_parent\"><img src=\"https://colab.research.google.com/assets/colab-badge.svg\" alt=\"Open In Colab\"/></a>"
      ]
    },
    {
      "cell_type": "code",
      "execution_count": null,
      "metadata": {
        "colab": {
          "base_uri": "https://localhost:8080/"
        },
        "id": "9kjRNHGLgCb8",
        "outputId": "b5eb6a1c-c1e5-458b-c46a-33a1d55945b2"
      },
      "outputs": [
        {
          "name": "stdout",
          "output_type": "stream",
          "text": [
            "--2024-01-03 19:31:12--  https://github.com/brendenlake/omniglot/raw/master/python/images_background.zip\n",
            "Resolving github.com (github.com)... 140.82.113.4\n",
            "Connecting to github.com (github.com)|140.82.113.4|:443... connected.\n",
            "HTTP request sent, awaiting response... 302 Found\n",
            "Location: https://raw.githubusercontent.com/brendenlake/omniglot/master/python/images_background.zip [following]\n",
            "--2024-01-03 19:31:13--  https://raw.githubusercontent.com/brendenlake/omniglot/master/python/images_background.zip\n",
            "Resolving raw.githubusercontent.com (raw.githubusercontent.com)... 185.199.108.133, 185.199.109.133, 185.199.110.133, ...\n",
            "Connecting to raw.githubusercontent.com (raw.githubusercontent.com)|185.199.108.133|:443... connected.\n",
            "HTTP request sent, awaiting response... 200 OK\n",
            "Length: 9464212 (9.0M) [application/zip]\n",
            "Saving to: ‘images_background.zip.1’\n",
            "\n",
            "images_background.z 100%[===================>]   9.03M  --.-KB/s    in 0.06s   \n",
            "\n",
            "2024-01-03 19:31:13 (154 MB/s) - ‘images_background.zip.1’ saved [9464212/9464212]\n",
            "\n",
            "--2024-01-03 19:31:13--  https://github.com/brendenlake/omniglot/raw/master/python/images_evaluation.zip\n",
            "Resolving github.com (github.com)... 140.82.113.4\n",
            "Connecting to github.com (github.com)|140.82.113.4|:443... connected.\n",
            "HTTP request sent, awaiting response... 302 Found\n",
            "Location: https://raw.githubusercontent.com/brendenlake/omniglot/master/python/images_evaluation.zip [following]\n",
            "--2024-01-03 19:31:14--  https://raw.githubusercontent.com/brendenlake/omniglot/master/python/images_evaluation.zip\n",
            "Resolving raw.githubusercontent.com (raw.githubusercontent.com)... 185.199.108.133, 185.199.109.133, 185.199.110.133, ...\n",
            "Connecting to raw.githubusercontent.com (raw.githubusercontent.com)|185.199.108.133|:443... connected.\n",
            "HTTP request sent, awaiting response... 200 OK\n",
            "Length: 6462886 (6.2M) [application/zip]\n",
            "Saving to: ‘images_evaluation.zip.1’\n",
            "\n",
            "images_evaluation.z 100%[===================>]   6.16M  --.-KB/s    in 0.06s   \n",
            "\n",
            "2024-01-03 19:31:14 (108 MB/s) - ‘images_evaluation.zip.1’ saved [6462886/6462886]\n",
            "\n",
            "Archive:  images_background.zip\n",
            "replace images_background/Alphabet_of_the_Magi/character01/0709_01.png? [y]es, [n]o, [A]ll, [N]one, [r]ename: Archive:  images_evaluation.zip\n",
            "replace images_evaluation/Angelic/character01/0965_01.png? [y]es, [n]o, [A]ll, [N]one, [r]ename: "
          ]
        }
      ],
      "source": [
        "!wget https://github.com/brendenlake/omniglot/raw/master/python/images_background.zip\n",
        "!wget https://github.com/brendenlake/omniglot/raw/master/python/images_evaluation.zip\n",
        "\n",
        "!unzip images_background.zip\n",
        "!unzip images_evaluation.zip\n"
      ]
    },
    {
      "cell_type": "code",
      "execution_count": null,
      "metadata": {
        "id": "vDHNaBFxgTPL"
      },
      "outputs": [],
      "source": [
        "import os\n",
        "import cv2\n",
        "import numpy as np\n",
        "\n",
        "def load_images(path, size=(105, 105)):\n",
        "    images, labels = [], []\n",
        "    for alphabet in os.listdir(path):\n",
        "        for character in os.listdir(os.path.join(path, alphabet)):\n",
        "            for img_file in os.listdir(os.path.join(path, alphabet, character)):\n",
        "                img_path = os.path.join(path, alphabet, character, img_file)\n",
        "                img = cv2.imread(img_path, cv2.IMREAD_GRAYSCALE)\n",
        "                img = cv2.resize(img, size)\n",
        "                images.append(img)\n",
        "                labels.append(character)\n",
        "    return np.array(images), np.array(labels)\n"
      ]
    },
    {
      "cell_type": "code",
      "execution_count": null,
      "metadata": {
        "colab": {
          "background_save": true
        },
        "id": "KDvr6_8vikw3"
      },
      "outputs": [],
      "source": [
        "def preprocess_images(images):\n",
        "    images = images.astype('float32') / 255.0  # Normalize\n",
        "    images = np.expand_dims(images, axis=-1)   # Reshape for CNN input\n",
        "    return images\n",
        "\n",
        "# Load and preprocess the images\n",
        "train_images, train_labels = load_images('images_background')\n",
        "train_images = preprocess_images(train_images)\n",
        "\n",
        "test_images, test_labels = load_images('images_evaluation')\n",
        "test_images = preprocess_images(test_images)\n"
      ]
    },
    {
      "cell_type": "code",
      "execution_count": null,
      "metadata": {
        "id": "nEH1iHWcnJJg"
      },
      "outputs": [],
      "source": [
        "import random\n",
        "\n",
        "def make_pairs(images, labels):\n",
        "    pair_images, pair_labels = [], []\n",
        "    label_dict = dict()\n",
        "\n",
        "    for idx, label in enumerate(labels):\n",
        "        label_dict.setdefault(label, []).append(images[idx])\n",
        "\n",
        "    unique_labels = np.unique(labels)\n",
        "    num_classes = len(unique_labels)\n",
        "\n",
        "    for idx, label in enumerate(unique_labels):\n",
        "        for _ in range(len(label_dict[label])):\n",
        "            # Create a pair of similar images\n",
        "            similar_image_idx = random.choice(label_dict[label])\n",
        "            pair_images.append([images[idx], similar_image_idx])\n",
        "            pair_labels.append([1])\n",
        "\n",
        "            # Create a pair of dissimilar images\n",
        "            different_label = random.choice(list(set(unique_labels) - set([label])))\n",
        "            different_image_idx = random.choice(label_dict[different_label])\n",
        "            pair_images.append([images[idx], different_image_idx])\n",
        "            pair_labels.append([0])\n",
        "\n",
        "    return np.array(pair_images), np.array(pair_labels)\n",
        "\n",
        "# Create pairs for training and testing\n",
        "train_pairs, train_pair_labels = make_pairs(train_images, train_labels)\n",
        "test_pairs, test_pair_labels = make_pairs(test_images, test_labels)\n"
      ]
    },
    {
      "cell_type": "code",
      "execution_count": null,
      "metadata": {
        "id": "rRM4H37nye9m"
      },
      "outputs": [],
      "source": [
        "train_pairs = train_pairs.astype('float32')\n",
        "test_pairs = test_pairs.astype('float32')\n",
        "\n",
        "# Reshape for CNN input\n",
        "train_pairs = train_pairs.reshape(-1, 2, 105, 105, 1)\n",
        "test_pairs = test_pairs.reshape(-1, 2, 105, 105, 1)\n"
      ]
    },
    {
      "cell_type": "code",
      "execution_count": null,
      "metadata": {
        "id": "LA7xEZgeylv6"
      },
      "outputs": [],
      "source": [
        "from tensorflow.keras.models import Model\n",
        "from tensorflow.keras.layers import Input, Conv2D, MaxPooling2D, Flatten, Dense, Lambda\n",
        "from tensorflow.keras import backend as K\n",
        "\n",
        "# Define the base network architecture\n",
        "def create_base_network(input_shape):\n",
        "    input = Input(shape=input_shape)\n",
        "    x = Conv2D(64, (3, 3), activation='relu')(input)\n",
        "    x = MaxPooling2D((2, 2))(x)\n",
        "    x = Flatten()(x)\n",
        "    x = Dense(128, activation='relu')(x)\n",
        "    return Model(input, x)\n",
        "\n",
        "# Input shape\n",
        "input_shape = train_pairs[0][0].shape\n",
        "\n",
        "# Create the base network\n",
        "base_network = create_base_network(input_shape)\n",
        "\n",
        "# Create the inputs for the two branches of the Siamese network\n",
        "input_a = Input(shape=input_shape)\n",
        "input_b = Input(shape=input_shape)\n",
        "\n",
        "# Because we re-use the same instance 'base_network',\n",
        "# the weights of the network will be shared across the two branches\n",
        "processed_a = base_network(input_a)\n",
        "processed_b = base_network(input_b)\n",
        "\n",
        "# Calculate the L1 distance between the two branch outputs\n",
        "distance = Lambda(lambda tensors: K.abs(tensors[0] - tensors[1]))([processed_a, processed_b])\n",
        "\n",
        "# Add a dense layer with a sigmoid unit to generate the similarity score\n",
        "output = Dense(1, activation='sigmoid')(distance)\n",
        "\n",
        "model = Model(inputs=[input_a, input_b], outputs=output)\n",
        "\n",
        "# Compile the model\n",
        "model.compile(loss='binary_crossentropy', optimizer='adam', metrics=['accuracy'])\n"
      ]
    },
    {
      "cell_type": "code",
      "execution_count": null,
      "metadata": {
        "colab": {
          "base_uri": "https://localhost:8080/",
          "height": 250
        },
        "id": "_XK4IdtXzRMy",
        "outputId": "0e400b40-ac4e-4bc2-b7cc-90a5e1402a79"
      },
      "outputs": [
        {
          "ename": "NameError",
          "evalue": "ignored",
          "output_type": "error",
          "traceback": [
            "\u001b[0;31m---------------------------------------------------------------------------\u001b[0m",
            "\u001b[0;31mNameError\u001b[0m                                 Traceback (most recent call last)",
            "\u001b[0;32m<ipython-input-1-bdd3b0471e48>\u001b[0m in \u001b[0;36m<cell line: 2>\u001b[0;34m()\u001b[0m\n\u001b[1;32m      1\u001b[0m \u001b[0;31m# Split the pairs and labels for training\u001b[0m\u001b[0;34m\u001b[0m\u001b[0;34m\u001b[0m\u001b[0m\n\u001b[0;32m----> 2\u001b[0;31m \u001b[0mpair1\u001b[0m \u001b[0;34m=\u001b[0m \u001b[0mtrain_pairs\u001b[0m\u001b[0;34m[\u001b[0m\u001b[0;34m:\u001b[0m\u001b[0;34m,\u001b[0m \u001b[0;36m0\u001b[0m\u001b[0;34m]\u001b[0m\u001b[0;34m\u001b[0m\u001b[0;34m\u001b[0m\u001b[0m\n\u001b[0m\u001b[1;32m      3\u001b[0m \u001b[0mpair2\u001b[0m \u001b[0;34m=\u001b[0m \u001b[0mtrain_pairs\u001b[0m\u001b[0;34m[\u001b[0m\u001b[0;34m:\u001b[0m\u001b[0;34m,\u001b[0m \u001b[0;36m1\u001b[0m\u001b[0;34m]\u001b[0m\u001b[0;34m\u001b[0m\u001b[0;34m\u001b[0m\u001b[0m\n\u001b[1;32m      4\u001b[0m \u001b[0mlabels\u001b[0m \u001b[0;34m=\u001b[0m \u001b[0mtrain_pair_labels\u001b[0m\u001b[0;34m\u001b[0m\u001b[0;34m\u001b[0m\u001b[0m\n\u001b[1;32m      5\u001b[0m \u001b[0;34m\u001b[0m\u001b[0m\n",
            "\u001b[0;31mNameError\u001b[0m: name 'train_pairs' is not defined"
          ]
        }
      ],
      "source": [
        "# Split the pairs and labels for training\n",
        "pair1 = train_pairs[:, 0]\n",
        "pair2 = train_pairs[:, 1]\n",
        "labels = train_pair_labels\n",
        "\n",
        "# Train the model\n",
        "history = model.fit([pair1, pair2], labels, epochs=20, validation_split=0.2)\n"
      ]
    },
    {
      "cell_type": "code",
      "execution_count": null,
      "metadata": {
        "id": "dvmuisIYzaRo"
      },
      "outputs": [],
      "source": []
    }
  ],
  "metadata": {
    "colab": {
      "provenance": [],
      "authorship_tag": "ABX9TyMisPDllsn5jdAiL7M1ZbgJ",
      "include_colab_link": true
    },
    "kernelspec": {
      "display_name": "Python 3",
      "name": "python3"
    },
    "language_info": {
      "name": "python"
    }
  },
  "nbformat": 4,
  "nbformat_minor": 0
}